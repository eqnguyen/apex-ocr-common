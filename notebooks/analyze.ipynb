{
 "cells": [
  {
   "attachments": {},
   "cell_type": "markdown",
   "metadata": {},
   "source": [
    "## Imports"
   ]
  },
  {
   "cell_type": "code",
   "execution_count": null,
   "metadata": {},
   "outputs": [],
   "source": [
    "import matplotlib.pyplot as plt\n",
    "import matplotlib.ticker as ticker\n",
    "import pandas as pd\n",
    "import seaborn as sns\n",
    "import yaml\n",
    "\n",
    "from apex_ocr.config import DATABASE_YML_FILE\n",
    "from apex_ocr.database.api import ApexDatabaseApi\n",
    "from apex_ocr.database.models import MatchResult, Player, PlayerMatchResult"
   ]
  },
  {
   "cell_type": "code",
   "execution_count": null,
   "metadata": {},
   "outputs": [],
   "source": [
    "pd.options.display.float_format = '{:,.3f}'.format\n",
    "%matplotlib ipympl\n"
   ]
  },
  {
   "attachments": {},
   "cell_type": "markdown",
   "metadata": {},
   "source": [
    "## Database Connection"
   ]
  },
  {
   "cell_type": "code",
   "execution_count": null,
   "metadata": {},
   "outputs": [],
   "source": [
    "with open(DATABASE_YML_FILE) as db_file:\n",
    "    db_config = yaml.load(db_file, Loader=yaml.FullLoader)\n",
    "\n",
    "dialect = db_config[\"dialect\"]\n",
    "username = db_config[\"username\"]\n",
    "password = db_config[\"password\"]\n",
    "hostname = db_config[\"hostname\"]\n",
    "port = db_config[\"port\"]\n",
    "database_name = db_config[\"database_name\"]\n",
    "\n",
    "db_conn_str = f\"{dialect}://{username}:{password}@{hostname}:{port}/{database_name}\"\n",
    "db_conn = ApexDatabaseApi(db_conn_str)"
   ]
  },
  {
   "attachments": {},
   "cell_type": "markdown",
   "metadata": {},
   "source": [
    "## Group vs Solo Result Comparison"
   ]
  },
  {
   "cell_type": "code",
   "execution_count": null,
   "metadata": {},
   "outputs": [],
   "source": [
    "ccc_match_results = []\n",
    "red_ninja_match_results = []\n",
    "redlezar_solo_results = []\n",
    "prodigal_solo_results = []\n",
    "fourransom_solo_results = []\n",
    "\n",
    "ignore_cols = [\n",
    "    \"id\",\n",
    "    \"match_id\",\n",
    "    \"datetime\",\n",
    "    \"match_type\",\n",
    "    \"result\",\n",
    "    \"hash\",\n",
    "    \"player_id\",\n",
    "    \"clan_id\",\n",
    "    \"player_name\",\n",
    "    \"legend\",\n",
    "]\n",
    "\n",
    "match_results = db_conn.session.query(MatchResult).all()\n",
    "\n",
    "for match_result in match_results:\n",
    "    player_names = set([pmr.player.name for pmr in match_result.player_match_results])\n",
    "\n",
    "    if set([\"redlezar\", \"4ransom\", \"prodigalninja\"]) == player_names:\n",
    "        ccc_match_results.append(match_result)\n",
    "    elif set([\"redlezar\", \"prodigalninja\"]).issubset(player_names):\n",
    "        red_ninja_match_results.append(match_result)\n",
    "    elif \"redlezar\" in player_names:\n",
    "        redlezar_solo_results.append(match_result)\n",
    "    elif \"prodigalninja\" in player_names:\n",
    "        prodigal_solo_results.append(match_result)\n",
    "    elif \"4ransom\" in player_names:\n",
    "        fourransom_solo_results.append(match_result)"
   ]
  },
  {
   "cell_type": "code",
   "execution_count": null,
   "metadata": {},
   "outputs": [],
   "source": [
    "full_match_results = pd.DataFrame()\n",
    "\n",
    "for match_result in ccc_match_results:\n",
    "    for pmr in match_result.player_match_results:\n",
    "        temp_df = pd.DataFrame(pmr.to_dict(), index=[0])\n",
    "        temp_df[\"group\"] = \"ccc\"\n",
    "        full_match_results = pd.concat([full_match_results, temp_df], ignore_index=True)\n",
    "\n",
    "for match_result in red_ninja_match_results:\n",
    "    for pmr in match_result.player_match_results:\n",
    "        temp_df = pd.DataFrame(pmr.to_dict(), index=[0])\n",
    "        temp_df[\"group\"] = \"redninja\"\n",
    "        full_match_results = pd.concat([full_match_results, temp_df], ignore_index=True)\n",
    "\n",
    "for match_result in redlezar_solo_results:\n",
    "    for pmr in match_result.player_match_results:\n",
    "        temp_df = pd.DataFrame(pmr.to_dict(), index=[0])\n",
    "        temp_df[\"group\"] = \"redsolo\"\n",
    "        full_match_results = pd.concat([full_match_results, temp_df], ignore_index=True)\n",
    "\n",
    "for match_result in prodigal_solo_results:\n",
    "    for pmr in match_result.player_match_results:\n",
    "        temp_df = pd.DataFrame(pmr.to_dict(), index=[0])\n",
    "        temp_df[\"group\"] = \"ninjasolo\"\n",
    "        full_match_results = pd.concat([full_match_results, temp_df], ignore_index=True)\n",
    "\n",
    "full_match_results.drop(columns=ignore_cols).groupby([\"group\"]).mean()"
   ]
  },
  {
   "attachments": {},
   "cell_type": "markdown",
   "metadata": {},
   "source": [
    "## All Player Match Results Statistics"
   ]
  },
  {
   "cell_type": "code",
   "execution_count": null,
   "metadata": {},
   "outputs": [],
   "source": [
    "player_match_results = pd.DataFrame()\n",
    "for pmr in db_conn.session.query(PlayerMatchResult).all():\n",
    "    player_match_results = pd.concat(\n",
    "        [player_match_results, pd.DataFrame(pmr.to_dict(), index=[0])]\n",
    "    )\n",
    "\n",
    "pmr_counts = player_match_results.player_name.value_counts()\n",
    "pmr_counts\n"
   ]
  },
  {
   "attachments": {},
   "cell_type": "markdown",
   "metadata": {},
   "source": [
    "## Compare Individual Players"
   ]
  },
  {
   "cell_type": "code",
   "execution_count": null,
   "metadata": {},
   "outputs": [],
   "source": [
    "prodigalninja = db_conn.session.query(Player).filter_by(name=\"prodigalninja\").first()\n",
    "redlezar = db_conn.session.query(Player).filter_by(name=\"redlezar\").first()\n",
    "fransom = db_conn.session.query(Player).filter_by(name=\"4ransom\").first()\n",
    "lightningquick3 = db_conn.session.query(Player).filter_by(name=\"lightningquick3\").first()\n",
    "laxman117 = db_conn.session.query(Player).filter_by(name=\"laxman117\").first()\n"
   ]
  },
  {
   "cell_type": "code",
   "execution_count": null,
   "metadata": {},
   "outputs": [],
   "source": [
    "results_df = pd.DataFrame()\n",
    "\n",
    "for match_result in prodigalninja.match_results:\n",
    "    results_df = pd.concat(\n",
    "        [results_df, pd.DataFrame(match_result.to_dict(), index=[0])]\n",
    "    )\n",
    "\n",
    "for match_result in redlezar.match_results:\n",
    "    results_df = pd.concat(\n",
    "        [results_df, pd.DataFrame(match_result.to_dict(), index=[0])]\n",
    "    )\n",
    "\n",
    "for match_result in fransom.match_results:\n",
    "    results_df = pd.concat(\n",
    "        [results_df, pd.DataFrame(match_result.to_dict(), index=[0])]\n",
    "    )\n",
    "\n",
    "for match_result in lightningquick3.match_results:\n",
    "    results_df = pd.concat(\n",
    "        [results_df, pd.DataFrame(match_result.to_dict(), index=[0])]\n",
    "    )\n",
    "\n",
    "for match_result in laxman117.match_results:\n",
    "    results_df = pd.concat(\n",
    "        [results_df, pd.DataFrame(match_result.to_dict(), index=[0])]\n",
    "    )\n",
    "\n",
    "# Filter out bad data\n",
    "results_df = results_df[results_df[\"place\"] <= 20]\n",
    "\n",
    "results_df.head()"
   ]
  },
  {
   "cell_type": "code",
   "execution_count": null,
   "metadata": {},
   "outputs": [],
   "source": [
    "pmr_mean = (\n",
    "    results_df[\n",
    "        [\n",
    "            \"place\",\n",
    "            \"player_name\",\n",
    "            \"kills\",\n",
    "            \"assists\",\n",
    "            \"knockdowns\",\n",
    "            \"damage\",\n",
    "            \"survival_time\",\n",
    "            \"revives\",\n",
    "            \"respawns\",\n",
    "        ]\n",
    "    ]\n",
    "    .groupby(\"player_name\")\n",
    "    .mean()\n",
    "    .reset_index()\n",
    ")\n",
    "pmr_mean.insert(1, \"count\", pmr_mean[\"player_name\"].apply(lambda v: pmr_counts[v]))\n",
    "pmr_mean.insert(6, \"efficiency\", pmr_mean[\"kills\"] / pmr_mean[\"knockdowns\"])\n",
    "pmr_mean"
   ]
  },
  {
   "attachments": {},
   "cell_type": "markdown",
   "metadata": {},
   "source": [
    "## Plots"
   ]
  },
  {
   "cell_type": "code",
   "execution_count": null,
   "metadata": {},
   "outputs": [],
   "source": [
    "player_filter = [\"4ransom\", \"redlezar\", \"prodigalninja\"]\n"
   ]
  },
  {
   "cell_type": "code",
   "execution_count": null,
   "metadata": {},
   "outputs": [],
   "source": [
    "plt.figure()\n",
    "sns.histplot(\n",
    "    data=results_df[results_df.player_name.isin(player_filter)],\n",
    "    hue=\"player_name\",\n",
    "    x=\"place\",\n",
    "    discrete=True,\n",
    "    element=\"step\",\n",
    "    common_norm=False,\n",
    "    stat=\"density\",\n",
    ")"
   ]
  },
  {
   "cell_type": "code",
   "execution_count": null,
   "metadata": {},
   "outputs": [],
   "source": [
    "plt.figure()\n",
    "ax = sns.regplot(data=results_df, x=\"survival_time\", y=\"place\")\n",
    "ax.set_title(\"Surival Time vs Place\")\n",
    "ax.set_xlabel(\"Surival Time (s)\")\n",
    "ax.set_ylabel(\"Place\")\n",
    "ax.set_ylim(20.5, 0)\n",
    "ax.yaxis.set_major_formatter(ticker.FormatStrFormatter(\"%d\"))\n",
    "ax.xaxis.set_major_formatter(ticker.FormatStrFormatter(\"%2.2f\"))"
   ]
  }
 ],
 "metadata": {
  "kernelspec": {
   "display_name": "venv3106",
   "language": "python",
   "name": "python3"
  },
  "language_info": {
   "codemirror_mode": {
    "name": "ipython",
    "version": 3
   },
   "file_extension": ".py",
   "mimetype": "text/x-python",
   "name": "python",
   "nbconvert_exporter": "python",
   "pygments_lexer": "ipython3",
   "version": "3.10.6"
  },
  "orig_nbformat": 4
 },
 "nbformat": 4,
 "nbformat_minor": 2
}
